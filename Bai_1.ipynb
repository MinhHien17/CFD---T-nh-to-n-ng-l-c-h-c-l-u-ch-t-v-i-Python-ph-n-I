{
 "cells": [
  {
   "cell_type": "markdown",
   "metadata": {},
   "source": [
    "Tài liệu này mang giấy phép Creative Commons Attribution (CC BY).(c) Nguyễn Ngọc Sáng, Zhukovsky 12/2018.\n",
    "\n",
    "[@SangVn](https://github.com/SangVn) [@VnCFD](https://vncfdgroup.wordpress.com/)"
   ]
  },
  {
   "cell_type": "markdown",
   "metadata": {},
   "source": [
    "*Thực hành CFD với Python!*\n",
    "\n",
    "# Thực hành CFD với Python !"
   ]
  },
  {
   "cell_type": "markdown",
   "metadata": {},
   "source": [
    "Chào mừng các bạn đến với khóa học `\"Thực hành CFD với Python!\"`.\n",
    "Khóa học dành cho những ai quan tâm tới CFD (Computational Fluid Dynamics) - `Tính toán động lực học lưu chất`. Nó cũng bổ ích cho các bạn đang nghiên cứu `giải tích số (phương pháp tính)` hay bạn nào muốn tìm một project thú vị để học `Python`. \n",
    "\n",
    "Khóa học được xây dựng dựa trên nhiều nguồn tham khảo khác nhau. Phần lý thuyết chủ yếu nằm trong quyển sách `Computational Fluid Mechanics and Heat Transfer - J. Tannehill, D. Anderson, R. Pletcher` và quyển `Computational Techniques for Fluid Dynamics - C. Fletcher`. Ngoài ra còn có các bài viết trên trang [VnCFD](https://vncfdgroup.wordpress.com/). Phần code dựa trên khóa học [CFD Python: 12 steps to Navier-Stokes](http://lorenabarba.com/blog/cfd-python-12-steps-to-navier-stokes) đã được giới thiệu trong bài [VnCFD](https://vncfdgroup.wordpress.com/2013/04/12/computational-fluid-dynamics-lorena-a-barba-boston-university). \n",
    "\n",
    "Khóa học sẽ được chia nhiều phần với các chủ đề khác nhau khác nhau. `\"Phần I - Phương pháp sai phân hữu hạn\"` gồm 10 bài. Qua 10 bước chúng ta sẽ tiếp cận với hệ phương trình Navier-Stokes cho chất lỏng không nén được. Hệ phương trình này có dạng:\n",
    "\n",
    "\\begin{array}{c}\n",
    "\\nabla \\cdot\\vec{v} = 0 \\\\\n",
    "\\frac{\\partial \\vec{v}}{\\partial t}+(\\vec{v}\\cdot\\nabla)\\vec{v} = -\\frac{1}{\\rho}\\nabla p + \\nu \\nabla^2\\vec{v} \n",
    "\\end{array}\n",
    "\n",
    "Ta thấy ở đây bóng dáng của các `phương trình đạo hàm riêng` như: phương trình dịch chuyển, phương trình truyền nhiệt, phương trình Laplace, phương trình Burgers. Các bài thực hành cũng được sắp xếp theo thứ tự đó.\n",
    "\n",
    "Để thực hành hiệu quả, các bạn hãy ghi chép lại công thức, khai triển sơ đồ sai phân, tự viết code, hạn chế copy-paste. Trước khi bắt đầu bạn hãy cài Python hay IPython và tìm hiểu qua cách sử dụng (tham khảo: [VnCFD](https://vncfdgroup.wordpress.com/category/ngon-ngu-lap-trinh/)).\n",
    "\n",
    "Mọi đóng góp cho khóa học xin gửi về địa chỉ [ngocsangvn@gmail.com].\n",
    "\n",
    "Chúng ta hãy bắt đầu với việc tìm hiểu phương pháp sai phân hữu hạn (tham khảo: [VnCFD](https://vncfdgroup.wordpress.com/2013/04/10/cac-phuong-phap-cfd/))"
   ]
  },
  {
   "cell_type": "markdown",
   "metadata": {},
   "source": [
    "# Bài 1. Phương pháp sai phân hữu hạn"
   ]
  },
  {
   "cell_type": "markdown",
   "metadata": {},
   "source": [
    "Giả sử chúng ta phải tìm nghiệm phương trình đạo hàm riêng (PTĐHR):\n",
    "\n",
    "$$\\frac {\\partial u}{\\partial x} + \\frac {\\partial u}{\\partial y} = 0\\ trên\\ miền\\ 0 \\leq x \\leq 1, 0 \\leq y \\leq 1$$.\n",
    "\n",
    "Sử dụng phương pháp tính không cho kết quả `nghiệm chính xác` u(x,y) liên tục (u tại mọi điểm) trên toàn bộ vùng tính toán mà chỉ cho `nghiệm gần đúng` tại các điểm rời rạc. Do đó trước hết chúng ta cần `rời rạc hóa` miền tính toán. Giả sử, chia đoạn $0 \\leq x \\leq 1$ thành (nx-1) đoạn bằng nhau có độ dài $\\Delta x$, chia đoạn $0 \\leq y \\leq 1$ thành (ny-1) đoạn bằng nhau có độ dài $\\Delta y$, ta thu được `lưới rời rạc` có $(nx-1)(ny-1)$ `ô lưới` và $(nx)(ny)$ `điểm lưới`. Khi đó nghiệm chính xác u(x, y) sẽ được thay thế bằng nghiệm gần đúng $u(i\\Delta x, j\\Delta y)$ tại các điểm lưới (i, j), với i là chỉ số theo trục x, j là chỉ số theo trục y. \n",
    "Để viết gọn, ta quy ước: $u(i\\Delta x, j\\Delta) y = u_{i, j}$. Với $i\\Delta x = x_0, j\\Delta y = y_0$ ta có:\n",
    "\n",
    "\\begin{array}{c}\n",
    "u(x_0, y_0) = u_{i, j}\\\\\n",
    "u(x_0 + \\Delta x, y_0) = u_{i+1, j}\\\\\n",
    "u(x_0 - \\Delta x, y_0) = u_{i-1, j}\\\\\n",
    "u(x_0, y_0 + \\Delta y) = u_{i, j+1}\\\\\n",
    "u(x_0, y_0 - \\Delta y) = u_{i, j-1}\\\\\n",
    "\\end{array}\n",
    "\n",
    "Truờng hợp y là thời gian ta dùng chỉ số 'n' và viết thành $u_i^n$.\n",
    "Tiếp theo, chúng ta sử dụng lưới rời rạc như thế nào?\n",
    "\n",
    "Trước khi trả lời câu hỏi này ta sẽ thực hành một bài tập nhỏ: sử dụng python để chia lưới, vẽ lưới. Ở đây ta sử dụng hai thư viện: `numpy` để tính toán mảng, ma trận; `pyplot` - vẽ đồ thị. Để chia lưới đơn giản, ta sử dụng hàm `linspace` trong numpy."
   ]
  },
  {
   "cell_type": "code",
   "execution_count": 4,
   "metadata": {},
   "outputs": [
    {
     "data": {
      "text/plain": [
       "(array([ 0. ,  0.1,  0.2,  0.3,  0.4,  0.5,  0.6,  0.7,  0.8,  0.9,  1. ]),\n",
       " array([ 0. ,  0.1,  0.2,  0.3,  0.4,  0.5,  0.6,  0.7,  0.8,  0.9,  1. ]))"
      ]
     },
     "execution_count": 4,
     "metadata": {},
     "output_type": "execute_result"
    }
   ],
   "source": [
    "#Dùng '#' để bắt đầu một chú thích trong code\n",
    "\n",
    "import numpy # Gọi thư viện numpy\n",
    "from matplotlib import pyplot # Gọi thư viện pyplot từ matplotlib\n",
    "\n",
    "#chỉ cần khi bạn sử dụng ipython notebook\n",
    "%matplotlib inline \n",
    "\n",
    "#số điểm lưới theo trục x và y\n",
    "nx = 11\n",
    "ny = 11\n",
    "\n",
    "#kích thước ô lưới \n",
    "dx = 1./(nx-1) #tại sao lại là (nx-1)?\n",
    "dy = 1./(ny-1) # _____//______ (ny-1)?\n",
    "\n",
    "#dùng hàm linspace để chia lưới đều: chia đoạn 0, 1 bởi nx, ny điểm\n",
    "x = numpy.linspace(0, 1, nx) # Mảng (tập hợp) x gồm nx phần tử (điểm lưới) x[i] - i chạy từ 0 tới nx-1\n",
    "y = numpy.linspace(0, 1, ny) # Mảng y gồm ny phần tử (điểm lưới) y[j] - j chạy từ 0 tới ny-1\n",
    "x, y # Hiển thị mảng x,y"
   ]
  },
  {
   "cell_type": "code",
   "execution_count": 6,
   "metadata": {},
   "outputs": [
    {
     "name": "stdout",
     "output_type": "stream",
     "text": [
      "0.0 1.0 1.0\n",
      "[ 0.9  1. ] [ 0.   0.1] [ 0.1  0.2  0.3]\n"
     ]
    }
   ],
   "source": [
    "#lấy các phần tử của mảng:\n",
    "print x[0], x[nx-1], x[-1] # phần tử đầu - thứ 0 - x[0], phần tử cuối x[nx-1] = x[-1]\n",
    "print x[9:], x[:2], x[1:4] # các phần tử từ thứ 9 trở đi, trước thứ 2 , từ 1 đến trước 4"
   ]
  },
  {
   "cell_type": "code",
   "execution_count": 153,
   "metadata": {},
   "outputs": [
    {
     "data": {
      "image/png": "[encoded data removed]",
      "text/plain": [
       "<matplotlib.figure.Figure at 0x7f89369b8d10>"
      ]
     },
     "metadata": {
      "needs_background": "light"
     },
     "output_type": "display_data"
    }
   ],
   "source": [
    "# Vẽ lưới\n",
    "X, Y = numpy.meshgrid(x, y) # Tạo lưới X, Y\n",
    "pyplot.grid(color='k', linestyle='-', linewidth=1) # color = 'r', 'g', 'b'...\n",
    "pyplot.xticks(x) #giá trị trục x\n",
    "pyplot.yticks(y) #giá trị trục y\n",
    "\n",
    "pyplot.plot(X, Y, marker='.', color='r', linestyle='none')\n",
    "# Hãy thử thay câu lệnh trên bằng câu lệnh sau:\n",
    "#pyplot.plot(x, y, marker='.', color='r', linestyle='none')\n",
    "\n",
    "pyplot.show()"
   ]
  },
  {
   "cell_type": "markdown",
   "metadata": {},
   "source": [
    "**Quay lại với lưới rời rạc**. Theo định nghĩa đạo hàm riêng:\n",
    "$$\\frac{\\partial u}{\\partial x}(x_0, y_0) = \\lim_{\\Delta x \\to 0} \\frac {u(x_0 + \\Delta x, y_0) - u(x_0, y_0)}{\\Delta x}$$\n",
    "Như vậy nếu như $\\Delta x$ đủ nhỏ thì ta có xấp xỉ: \n",
    "$$\\frac{\\partial u}{\\partial x}(x_0, y_0) \\approx \\frac{u(x_0+\\Delta x, y_0)-u(x_0, y_0)}{\\Delta x}$$\n",
    "Độ chính xác của phép xấp xỉ sai phân này có thể xem xét thông qua khai triển Taylor. Ta có:\n",
    "$$u(x_0 + \\Delta x, y_0) = u(x_0, y_0) + \\Delta x \\frac {\\partial u}{\\partial x}(x_0, y_0) + \\frac {(\\Delta x)^2}{2!} \\frac {\\partial^2 u}{\\partial x^2}(x_0, y_0) + \\frac {(\\Delta x)^3}{3!} \\frac {\\partial^3 u}{\\partial x^3}(x_0, y_0) + ... \\  (1) $$ \n",
    "Biến đổi phương trình trên ta thu được `sơ đồ sai phân`:\n",
    "$$\\frac{\\partial u}{\\partial x}(x_0, y_0) = \\frac{u(x_0+\\Delta x, y_0)-u(x_0, y_0)}{\\Delta x} + O(\\Delta x)$$\n",
    "Hay ta có:\n",
    "$$\\frac{\\partial u}{\\partial x} = \\frac{u_{i+1, j}-u_{i, j}}{\\Delta x} + O(\\Delta x)$$\n",
    "Sơ đồ này còn được gọi là `sơ đồ sai phân phải` (vì 'bước sang phải i->i+1').\n",
    "\n",
    "Ở đây, $O(\\Delta x)$ gọi là `sai số phép xấp xỉ`, nó có giá trị tuyệt đối không vượt quá $k|\\Delta x|, khi\\ \\Delta x \\to 0, k>0$.\n",
    "\n",
    "Trong trường hợp này ta nói phép xấp xỉ có độ chính xác bậc một, tương ứng `sơ đồ bậc 1`. Nếu phép xấp xỉ có sai số dạng $O(\\Delta x^2)$, ta nói phép xấp xỉ có độ chính xác bậc hai, tương ứng `sơ đồ bậc 2`. Như vậy nếu $\\Delta x$ đủ nhỏ thì sơ đồ bậc 2 chính xác hơn sơ đồ bậc 1. Tuy nhiên giá trị $\\Delta x$ chừng nào là \"đủ nhỏ\", \"nhỏ vừa đủ\" thì còn phải xem xét.\n",
    "\n",
    "Ngoài sơ đồ sai phân phải, chứng ta có thể xây dựng vô số các sơ đồ khác nhau cho đạo hàm riêng $\\partial u / \\partial x$ với bậc khác nhau. Ví dụ:\n",
    "* `sơ đồ sai phân trái` bậc 1:\n",
    "Khai triển Taylor:\n",
    "$$ u(x_0 - \\Delta x, y_0) = u(x_0, y_0) - \\Delta x \\frac {\\partial u}{\\partial x}(x_0, y_0) + \\frac {(\\Delta x)^2}{2!} \\frac {\\partial^2 u}{\\partial x^2}(x_0, y_0) - \\frac {(\\Delta x)^3}{3!} \\frac {\\partial^3 u}{\\partial x^3}(x_0, y_0) + ... \\  (2) $$\n",
    "ta có: \n",
    "$$\\frac{\\partial u}{\\partial x} = \\frac{u_{i, j}-u_{i-1, j}}{\\Delta x} + O(\\Delta x)$$\n",
    "* `sơ đồ sai phân trung tâm` bậc 2:\n",
    "Trừ hai vế phương trình (1) và (2) ta có:\n",
    "$$\\frac{\\partial u}{\\partial x} = \\frac{u_{i+1, j}-u_{i-1, j}}{2\\Delta x}  + O(\\Delta x)^2$$"
   ]
  },
  {
   "cell_type": "markdown",
   "metadata": {},
   "source": [
    "## Đạo hàm bậc hai:\n",
    "\n",
    "Cộng hai vế phương trình (1) và (2) ta có một dạng sơ đồ sai phân cho đạo hàm bậc hai:\n",
    "\n",
    "$$\\frac{\\partial^2 u}{\\partial x^2} = \\frac{u_{i+1, j}-2u_{i, j}+u_{i-1, j}}{(\\Delta x)^2} + O(\\Delta x)^2$$\n",
    "\n",
    "\n",
    "Vậy, sử dụng sơ đồ sai phân như thế nào để giải PTĐHR? Câu hỏi này sẽ được làm rõ ở [bài 2].\n",
    "\n",
    "Trước khi kết thức bài 1 về sơ đồ sai phân, chúng ta hãy thả lỏng một chút :)"
   ]
  },
  {
   "cell_type": "code",
   "execution_count": 156,
   "metadata": {},
   "outputs": [
    {
     "data": {
      "text/plain": [
       "array([[ 0. ,  0.1,  0.2,  0.3,  0.4,  0.5,  0.6,  0.7,  0.8,  0.9,  1. ],\n",
       "       [-0.1,  0. ,  0.1,  0.2,  0.3,  0.4,  0.5,  0.6,  0.7,  0.8,  0.9],\n",
       "       [-0.2, -0.1,  0. ,  0.1,  0.2,  0.3,  0.4,  0.5,  0.6,  0.7,  0.8],\n",
       "       [-0.3, -0.2, -0.1,  0. ,  0.1,  0.2,  0.3,  0.4,  0.5,  0.6,  0.7],\n",
       "       [-0.4, -0.3, -0.2, -0.1,  0. ,  0.1,  0.2,  0.3,  0.4,  0.5,  0.6],\n",
       "       [-0.5, -0.4, -0.3, -0.2, -0.1,  0. ,  0.1,  0.2,  0.3,  0.4,  0.5],\n",
       "       [-0.6, -0.5, -0.4, -0.3, -0.2, -0.1,  0. ,  0.1,  0.2,  0.3,  0.4],\n",
       "       [-0.7, -0.6, -0.5, -0.4, -0.3, -0.2, -0.1,  0. ,  0.1,  0.2,  0.3],\n",
       "       [-0.8, -0.7, -0.6, -0.5, -0.4, -0.3, -0.2, -0.1,  0. ,  0.1,  0.2],\n",
       "       [-0.9, -0.8, -0.7, -0.6, -0.5, -0.4, -0.3, -0.2, -0.1,  0. ,  0.1],\n",
       "       [-1. , -0.9, -0.8, -0.7, -0.6, -0.5, -0.4, -0.3, -0.2, -0.1,  0. ]])"
      ]
     },
     "execution_count": 156,
     "metadata": {},
     "output_type": "execute_result"
    }
   ],
   "source": [
    "# Giả sử nghiệm phương trình chúng ta đang xét là u = x-y\n",
    "# Bạn có thể cho hàm u tùy ý \n",
    "\n",
    "u = X - Y # Giá trị hàm u được xác định trên lưới X, Y\n",
    "u #hiển thị mảng u "
   ]
  },
  {
   "cell_type": "code",
   "execution_count": 157,
   "metadata": {},
   "outputs": [
    {
     "data": {
      "image/png": "[encoded data removed]",
      "text/plain": [
       "<matplotlib.figure.Figure at 0x7f8937b97f90>"
      ]
     },
     "metadata": {
      "needs_background": "light"
     },
     "output_type": "display_data"
    }
   ],
   "source": [
    "# vẽ đồ thị\n",
    "fig, ax = pyplot.subplots()\n",
    "\n",
    "# vẽ đường bình độ (đường đồng mức)\n",
    "cs = ax.contour(X, Y, u)\n",
    "ax.clabel(cs, inline=1, fontsize=10)\n",
    "\n",
    "# Hãy comment hai câu lệnh trên và thử hai câu lệnh sau\n",
    "#cs = ax.contourf(X, Y, u)\n",
    "#fig.colorbar(cs, ax=ax)\n",
    "\n",
    "ax.set_title('contour u')\n",
    "pyplot.show()"
   ]
  },
  {
   "cell_type": "markdown",
   "metadata": {},
   "source": [
    "### [Bài 2. Phương trình chuyển dịch tuyến tính một chiều](Bai_2.ipynb)"
   ]
  },
  {
   "cell_type": "code",
   "execution_count": null,
   "metadata": {},
   "outputs": [],
   "source": []
  }
 ],
 "metadata": {
  "kernelspec": {
   "display_name": "Python 2",
   "language": "python",
   "name": "python2"
  },
  "language_info": {
   "codemirror_mode": {
    "name": "ipython",
    "version": 2
   },
   "file_extension": ".py",
   "mimetype": "text/x-python",
   "name": "python",
   "nbconvert_exporter": "python",
   "pygments_lexer": "ipython2",
   "version": "2.7.15rc1"
  }
 },
 "nbformat": 4,
 "nbformat_minor": 2
}
