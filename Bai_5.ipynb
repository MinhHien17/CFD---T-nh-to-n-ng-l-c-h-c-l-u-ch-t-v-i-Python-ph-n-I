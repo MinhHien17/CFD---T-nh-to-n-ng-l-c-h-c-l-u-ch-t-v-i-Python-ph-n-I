{
 "cells": [
  {
   "cell_type": "markdown",
   "metadata": {},
   "source": [
    "Tài liệu này mang giấy phép Creative Commons Attribution (CC BY).\n",
    "(c) Nguyễn Ngọc Sáng, Zhukovsky 12/2018.\n",
    "\n",
    "[@SangVn](https://github.com/SangVn) [@VnCFD](https://vncfdgroup.wordpress.com/)"
   ]
  },
  {
   "cell_type": "markdown",
   "metadata": {},
   "source": [
    "*Thực hành CFD với Python!*\n",
    "\n",
    "# Bài 5. Phương trình Burgers (dòng chảy không nhớt)\n",
    "\n",
    "\n",
    "Phương trình Burgers là phương trình đạo hàm riêng phi tuyến có dạng:\n",
    "\n",
    "$$\\frac {\\partial u}{\\partial t} + u \\frac{\\partial u}{\\partial x} = \\nu \\frac{\\partial^2 u}{\\partial x^2}  \\qquad (1)$$\n",
    "\n",
    "Ba hạng tử của phương trình này tương ứng với các tính chất: không ổn định (phụ thuộc thời gian), chuyển dịch, tiêu tán (khuyếch tán, tính nhớt). Đây là những tính chất thường gặp trong phương trình động lực học lưu chất, cụ thể là hệ phương trình Navier-Stockes, mô tả dòng chảy có nhớt. Nếu bỏ đi hạng tử nhớt, ta có phương trình dịch chuyển không tuyến tính:\n",
    "$$\\frac {\\partial u}{\\partial t} + u \\frac{\\partial u}{\\partial x} = 0  \\qquad (2)$$\n",
    "Đây cũng chính là mô hình cho hệ phương trình Euler, mô tả dòng chảy không nhớt. Trong khuôn khổ bài 5 ta sẽ xem xét phương trình này.\n",
    "\n",
    "Nếu trong phương trình dịch chuyển tuyến tính, 'sóng' di chuyển với tốc độ cố định $c$ (dẫn đến hình dạng không đổi) thì ở phương trình dịch chuyển phi tuyến, các điểm khác nhau trên 'sóng' dịch chuyển với vận tốc khác nhau $u$.\n",
    "<img src=\"Bai_5.png\" width=500>\n",
    "\n",
    "Như mô tả trên hình, phần đỉnh sóng dịch chuyển với vận tốc lớn hơn, đến một thời điểm nào đó ($t=t_2$) đỉnh sóng sẽ 'vượt qua' chân sóng, tuy nhiên khi đó sẽ có nhiều nghiệm khác nhau, để đảm bảo `tính duy nhất của nghiệm` thì sẽ phải xuất hiện 'gián đoạn' ('đứt gãy') $ab$, nơi sóng 'đột ngột' thay đổi (shock). Tính chất này giống như `sóng xung kích` (shock wave) xuất hiện trong dòng chảy siêu âm không nhớt.\n",
    "\n",
    "**Sơ đồ Lax (1954)**\n",
    "\n",
    "Để xây dựng sơ đồ sai phân cho phương trình (2), ta xem xét phương pháp Lax. Viết lại phương trình ở dạng:\n",
    "$$\\frac {\\partial u}{\\partial t} + \\frac{\\partial F}{\\partial x} = 0; F=u^2/2 \\qquad (3)$$\n",
    "Sử dụng khai triển Taylor:\n",
    "$$u(x, t+\\Delta t) = u(x, t) + \\Delta t \\frac{\\partial u}{\\partial t} + ... \\qquad (4)$$\n",
    "Thay (3) vào (4) ta có:\n",
    "$$u(x, t+\\Delta t) = u(x, t) - \\Delta t \\frac{\\partial F}{\\partial x} + ... \\qquad (5)$$\n",
    "Từ phương trình (5) Lax đề xuất sử dụng sơ đồ sai phân bậc một sau:\n",
    "\n",
    "$$u_i^{n+1} = \\frac{u_{i+1}^n + u_{i-1}^n}{2} - \\frac{\\Delta t}{\\Delta x} \\frac{F_{i+1}^n - F_{i-1}^n}{2}.$$\n",
    "Sơ đồ này ổn định với điều kiện $|\\frac{\\Delta t}{\\Delta x} u_{max}| \\leq 1$, trong đó $u_{max}$ - trị riêng lớn nhất của ma trận Jacobi $A = dF/du$, trong trường hợp này A=|u|.\n",
    "\n",
    "**Bài toán 1**\n",
    "\n",
    "Để mô tả tính chất của phương trình dịch chuyển phi tuyến đã nói ở trên, ta xét bài toán với điều kiện ban đầu như sau:\n",
    "$$u(x, 0) = 2 - x; 0\\leq x \\leq 1$$\n",
    "$$u(x, 0) = 1; 1< x \\leq 7$$\n",
    "\n",
    "**Coding**\n",
    "\n",
    "Với điều kiện ổn định của sơ đồ như trên đòi hỏi chúng ta phải tìm giá trị u_max và xác định bước thời gian cần thiết cho mỗi bước lặp. Sử dụng hàm `numpy.amax(u)` để tìm phần tử lớn nhất trong mảng u."
   ]
  },
  {
   "cell_type": "code",
   "execution_count": 1,
   "metadata": {},
   "outputs": [],
   "source": [
    "import numpy as np\n",
    "import matplotlib.pyplot as plt\n",
    "\n",
    "#thông số tính toán\n",
    "nx = 71  #số điểm lưới\n",
    "dx = 7./(nx-1) #kích thước ô lưới\n",
    "x = np.linspace(0, 7, nx) #lưới \n",
    "r = 1. #điều kiện sơ đồ ổn định\n",
    "\n",
    "#điều kiện ban đầu\n",
    "u0 = np.ones(nx)\n",
    "#for i in range(int(1./dx)):\n",
    "#    u0[i] = 2 - x[i]\n",
    "i = int(1./dx)\n",
    "u0[:i] = 2 - x[:i]\n",
    "\n",
    "#ham solver\n",
    "def solver(u0, r, nt):\n",
    "    u = u0.copy() #tạo mảng u để chứa giá trị nghiệm\n",
    "    un = u0.copy() # mảng un chưa giá trị tạm thời \n",
    "    for n in range(nt):\n",
    "        dt = r/np.amax(u)*dx #xác định u_max, dt \n",
    "        un = u.copy() #lưu nghiệm hiện tại \n",
    "        u[1:-1] = (un[2:] + un[0:-2])/2 - dt/dx*(un[2:]**2/2 - un[0:-2]**2/2)/2 #tìm nghiệm ở bước tiếp theo \n",
    "        \n",
    "    return u #trả về giá trị nghiệm tìm được \n"
   ]
  },
  {
   "cell_type": "code",
   "execution_count": 2,
   "metadata": {},
   "outputs": [
    {
     "data": {
      "image/png": "[encoded data removed]",
      "text/plain": [
       "<matplotlib.figure.Figure at 0x7ff22079e050>"
      ]
     },
     "metadata": {
      "needs_background": "light"
     },
     "output_type": "display_data"
    }
   ],
   "source": [
    "\n",
    "#tim nghiệm tại các bước thời gian khác nhau\n",
    "u_10 = solver(u0, r, 10)\n",
    "u_20 = solver(u0, r, 20)\n",
    "u_40 = solver(u0, r, 40)\n",
    "u_50 = solver(u0, 1.1, 50)\n",
    "#đồ thị     \n",
    "plt.plot(x, u0, x, u_10, x, u_20, x, u_40, x, u_50)\n",
    "\n",
    "'''\n",
    "câu lệnh trên tương đương với:\n",
    "plt.plot(x, u0)\n",
    "plt.plot(x, u_10)\n",
    "plt.plot(x, u_20)\n",
    "plt.plot(x, u_40)\n",
    "plt.plot(x, u_50)\n",
    "'''\n",
    "\n",
    "plt.legend(['u0', 'u_10', 'u_20', 'u_40', 'u_50'])\n",
    "plt.show()"
   ]
  },
  {
   "cell_type": "markdown",
   "metadata": {},
   "source": [
    "Nghiệm tìm được khác mượt và chúng ta chưa thấy xuất hiện 'gián đoạn' thực sự. Để thu được độ chính xác lớn hơn, các bạn hãy tìm hiểu và sử dụng sơ sơ đồ bậc hai Lax-Wendroff. Lúc đó 'gián đoạn' thu được có độ dốc lớn hơn, nhưng xuất hiện các dao động do tính chất 'phân tán' của sơ đồ bậc 2.\n",
    "Ta cũng thấy rằng với $r = 1.1$, sơ đồ không ổn định (nghiệm u_50).\n",
    "\n",
    "Để nghiên cứu quá trình dịch chuyển gián đoạn cho phương trình Burgers, người ta thường sử dụng bài toán sau:\n",
    "$$u(x, 0) = a, x \\leq x_0;\\quad u(x, 0) = b, x > x_0; \\quad a > b$$ \n",
    "Nghiệm chính xác: $$u(x, t) = a, x \\leq x_0+st; \\quad u(x, t) = b, x > x_0+st$$\n",
    "với s là vận tốc dịch chuyển gián đoạn và bằng (a+b)/2. \n",
    "Nhờ biết được nghiệm chính xác, ta có thể dễ dàng kiểm tra kết quả tính toán.\n",
    "\n",
    "**Bài toán 2**\n",
    "\n",
    "Ngoài `sóng xung kích`, một hiện tượng khác của dòng chảy mà phương trình Burgers có thể mô tả đó là `sóng giãn`. Bài toán đặc trưng là: \n",
    "$$u(x, 0) = a, x \\leq x_0;\\quad u(x, 0) = b, x > x_0; \\quad a < b$$\n",
    "Nghiệm chính xác: \n",
    "$$u(x, t) = a, x\\leq x_0+at;\\quad u(x, t) = (x-x_0)/t, x_0+at < x < x_0+bt; \\quad u(x, t) = b, x \\geq x_0+bt$$\n",
    "Ở đây, dao động bên trái chuyển động chậm hơn dao động bên phải. Do bên trái không 'bắt kịp' bên phải nên sẽ sinh ra một vùng 'giãn', 'loãng' ở giữa.\n",
    "\n",
    "Cụ thể, ta xem xét bài toán:\n",
    "$$u(x, 0) = 0, x\\leq 3;\\ u(x, 0) = 1, x > 3$$\n",
    "Nghiệm chính xác tại thời điểm t là:\n",
    "$$u = 0, x\\leq 3; u = (x-3)/t, 3<x<3+t; u = 1, x\\geq 3+t$$"
   ]
  },
  {
   "cell_type": "code",
   "execution_count": 58,
   "metadata": {},
   "outputs": [
    {
     "data": {
      "image/png": "[encoded data removed]",
      "text/plain": [
       "<matplotlib.figure.Figure at 0x7f1ae9531e10>"
      ]
     },
     "metadata": {
      "needs_background": "light"
     },
     "output_type": "display_data"
    }
   ],
   "source": [
    "#Để so sánh với nghiệm chính xác, ta sửa lại hàm solver để trả về thêm giá trị thời gian\n",
    "\n",
    "def solver2(u0, r, nt):\n",
    "    u = u0.copy()  # tạo mảng u để chứa giá trị nghiệm\n",
    "    un = u0.copy() # mảng un chưa giá trị tạm thời \n",
    "    t = 0          # thời gian t\n",
    "    for n in range(nt):\n",
    "        dt = r/np.amax(u)*dx #xác định u_max, dt \n",
    "        un = u.copy()        #lưu nghiệm hiện tại \n",
    "        u[1:-1] = (un[2:] + un[0:-2])/2 - dt/dx*(un[2:]**2/2 - un[0:-2]**2/2)/2 #tìm nghiệm ở bước tiếp theo \n",
    "        t += dt #tính giá trị t\n",
    "    return u, t #trả về giá trị nghiệm tìm được và thời gian t\n",
    "\n",
    "#điều kiện ban đầu\n",
    "u0 = np.zeros(nx)\n",
    "u0[int(3./dx):] = 1\n",
    "\n",
    "u_10 = solver(u0, r, 10);\n",
    "u_20, t = solver2(u0, r, 20);\n",
    "\n",
    "#nghiệm chính xác\n",
    "u_cs = u0.copy()\n",
    "for i in range(int(3./dx), int((3.+t)/dx)):\n",
    "    u_cs[i] = (x[i]-3)/t\n",
    "    \n",
    "plt.plot(x, u0)\n",
    "plt.plot(x, u_10)\n",
    "plt.plot(x, u_20)\n",
    "plt.plot(x, u_cs)\n",
    "plt.show()"
   ]
  },
  {
   "cell_type": "markdown",
   "metadata": {},
   "source": [
    "Ta thấy sơ đồ Lax cho nghiệm không chính xác. Để so sánh, bạn hãy thử sử dụng sơ đồ Upwind:\n",
    "$$\\frac{u_i^{n+1} - u_i^n}{\\Delta t} + u_i^n \\frac{u_i^n - u_{i-1}^n}{\\Delta x} = 0$$\n",
    "Với hai bài toán sóng xung kích và sóng giãn đều có nghiệm chính xác, phương trình Burgers thường được sử dụng để kiểm tra các phương pháp tính."
   ]
  },
  {
   "cell_type": "markdown",
   "metadata": {},
   "source": [
    "## [Bài 6. Phương trình Burgers (dòng chảy có nhớt)](Bai_6.ipynb)"
   ]
  },
  {
   "cell_type": "code",
   "execution_count": null,
   "metadata": {},
   "outputs": [],
   "source": []
  }
 ],
 "metadata": {
  "kernelspec": {
   "display_name": "Python 2",
   "language": "python",
   "name": "python2"
  },
  "language_info": {
   "codemirror_mode": {
    "name": "ipython",
    "version": 2
   },
   "file_extension": ".py",
   "mimetype": "text/x-python",
   "name": "python",
   "nbconvert_exporter": "python",
   "pygments_lexer": "ipython2",
   "version": "2.7.15rc1"
  }
 },
 "nbformat": 4,
 "nbformat_minor": 2
}
